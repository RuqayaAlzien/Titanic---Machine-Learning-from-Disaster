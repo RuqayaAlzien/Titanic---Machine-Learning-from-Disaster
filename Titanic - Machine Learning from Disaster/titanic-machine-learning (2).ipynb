{
 "cells": [
  {
   "cell_type": "code",
   "execution_count": 1,
   "id": "bf580ed0",
   "metadata": {
    "_cell_guid": "b1076dfc-b9ad-4769-8c92-a6c4dae69d19",
    "_uuid": "8f2839f25d086af736a60e9eeb907d3b93b6e0e5",
    "execution": {
     "iopub.execute_input": "2024-04-07T17:06:38.863453Z",
     "iopub.status.busy": "2024-04-07T17:06:38.862657Z",
     "iopub.status.idle": "2024-04-07T17:06:39.970354Z",
     "shell.execute_reply": "2024-04-07T17:06:39.968875Z"
    },
    "papermill": {
     "duration": 1.127038,
     "end_time": "2024-04-07T17:06:39.973427",
     "exception": false,
     "start_time": "2024-04-07T17:06:38.846389",
     "status": "completed"
    },
    "tags": []
   },
   "outputs": [
    {
     "name": "stdout",
     "output_type": "stream",
     "text": [
      "/kaggle/input/titanic/train.csv\n",
      "/kaggle/input/titanic/test.csv\n",
      "/kaggle/input/titanic/gender_submission.csv\n"
     ]
    }
   ],
   "source": [
    "# This Python 3 environment comes with many helpful analytics libraries installed\n",
    "# It is defined by the kaggle/python Docker image: https://github.com/kaggle/docker-python\n",
    "# For example, here's several helpful packages to load\n",
    "\n",
    "import numpy as np # linear algebra\n",
    "import pandas as pd # data processing, CSV file I/O (e.g. pd.read_csv)\n",
    "\n",
    "# Input data files are available in the read-only \"../input/\" directory\n",
    "# For example, running this (by clicking run or pressing Shift+Enter) will list all files under the input directory\n",
    "\n",
    "import os\n",
    "for dirname, _, filenames in os.walk('/kaggle/input'):\n",
    "    for filename in filenames:\n",
    "        print(os.path.join(dirname, filename))\n",
    "\n",
    "# You can write up to 20GB to the current directory (/kaggle/working/) that gets preserved as output when you create a version using \"Save & Run All\" \n",
    "# You can also write temporary files to /kaggle/temp/, but they won't be saved outside of the current session"
   ]
  },
  {
   "cell_type": "code",
   "execution_count": 2,
   "id": "cd323106",
   "metadata": {
    "execution": {
     "iopub.execute_input": "2024-04-07T17:06:40.005356Z",
     "iopub.status.busy": "2024-04-07T17:06:40.004823Z",
     "iopub.status.idle": "2024-04-07T17:06:42.859997Z",
     "shell.execute_reply": "2024-04-07T17:06:42.858471Z"
    },
    "papermill": {
     "duration": 2.874836,
     "end_time": "2024-04-07T17:06:42.863515",
     "exception": false,
     "start_time": "2024-04-07T17:06:39.988679",
     "status": "completed"
    },
    "tags": []
   },
   "outputs": [],
   "source": [
    "import pandas as pd\n",
    "import numpy as np\n",
    "import matplotlib.pyplot as plt\n",
    "import seaborn as sns\n",
    "\n",
    "from sklearn.model_selection import train_test_split\n",
    "\n",
    "from sklearn.linear_model import LogisticRegression\n",
    "from sklearn.ensemble import RandomForestClassifier\n",
    "from sklearn.ensemble import GradientBoostingClassifier\n",
    "from sklearn.tree import DecisionTreeClassifier\n",
    "from sklearn.neighbors import KNeighborsClassifier\n",
    "from sklearn.naive_bayes import GaussianNB\n",
    "from sklearn.svm import SVC\n",
    "\n",
    "from sklearn.metrics import accuracy_score\n"
   ]
  },
  {
   "cell_type": "code",
   "execution_count": 3,
   "id": "20998866",
   "metadata": {
    "execution": {
     "iopub.execute_input": "2024-04-07T17:06:42.898160Z",
     "iopub.status.busy": "2024-04-07T17:06:42.897737Z",
     "iopub.status.idle": "2024-04-07T17:06:42.933914Z",
     "shell.execute_reply": "2024-04-07T17:06:42.932741Z"
    },
    "papermill": {
     "duration": 0.056028,
     "end_time": "2024-04-07T17:06:42.936798",
     "exception": false,
     "start_time": "2024-04-07T17:06:42.880770",
     "status": "completed"
    },
    "tags": []
   },
   "outputs": [],
   "source": [
    "train_data = pd.read_csv('/kaggle/input/titanic/train.csv')\n",
    "test_data = pd.read_csv('/kaggle/input/titanic/test.csv')"
   ]
  },
  {
   "cell_type": "markdown",
   "id": "70843b4d",
   "metadata": {
    "papermill": {
     "duration": 0.015658,
     "end_time": "2024-04-07T17:06:42.967476",
     "exception": false,
     "start_time": "2024-04-07T17:06:42.951818",
     "status": "completed"
    },
    "tags": []
   },
   "source": [
    "## Explore Data "
   ]
  },
  {
   "cell_type": "code",
   "execution_count": 4,
   "id": "e76cfaef",
   "metadata": {
    "execution": {
     "iopub.execute_input": "2024-04-07T17:06:43.000282Z",
     "iopub.status.busy": "2024-04-07T17:06:42.998843Z",
     "iopub.status.idle": "2024-04-07T17:06:43.031284Z",
     "shell.execute_reply": "2024-04-07T17:06:43.029297Z"
    },
    "papermill": {
     "duration": 0.05188,
     "end_time": "2024-04-07T17:06:43.033957",
     "exception": false,
     "start_time": "2024-04-07T17:06:42.982077",
     "status": "completed"
    },
    "tags": []
   },
   "outputs": [
    {
     "data": {
      "text/html": [
       "<div>\n",
       "<style scoped>\n",
       "    .dataframe tbody tr th:only-of-type {\n",
       "        vertical-align: middle;\n",
       "    }\n",
       "\n",
       "    .dataframe tbody tr th {\n",
       "        vertical-align: top;\n",
       "    }\n",
       "\n",
       "    .dataframe thead th {\n",
       "        text-align: right;\n",
       "    }\n",
       "</style>\n",
       "<table border=\"1\" class=\"dataframe\">\n",
       "  <thead>\n",
       "    <tr style=\"text-align: right;\">\n",
       "      <th></th>\n",
       "      <th>PassengerId</th>\n",
       "      <th>Survived</th>\n",
       "      <th>Pclass</th>\n",
       "      <th>Name</th>\n",
       "      <th>Sex</th>\n",
       "      <th>Age</th>\n",
       "      <th>SibSp</th>\n",
       "      <th>Parch</th>\n",
       "      <th>Ticket</th>\n",
       "      <th>Fare</th>\n",
       "      <th>Cabin</th>\n",
       "      <th>Embarked</th>\n",
       "    </tr>\n",
       "  </thead>\n",
       "  <tbody>\n",
       "    <tr>\n",
       "      <th>0</th>\n",
       "      <td>1</td>\n",
       "      <td>0</td>\n",
       "      <td>3</td>\n",
       "      <td>Braund, Mr. Owen Harris</td>\n",
       "      <td>male</td>\n",
       "      <td>22.0</td>\n",
       "      <td>1</td>\n",
       "      <td>0</td>\n",
       "      <td>A/5 21171</td>\n",
       "      <td>7.2500</td>\n",
       "      <td>NaN</td>\n",
       "      <td>S</td>\n",
       "    </tr>\n",
       "    <tr>\n",
       "      <th>1</th>\n",
       "      <td>2</td>\n",
       "      <td>1</td>\n",
       "      <td>1</td>\n",
       "      <td>Cumings, Mrs. John Bradley (Florence Briggs Th...</td>\n",
       "      <td>female</td>\n",
       "      <td>38.0</td>\n",
       "      <td>1</td>\n",
       "      <td>0</td>\n",
       "      <td>PC 17599</td>\n",
       "      <td>71.2833</td>\n",
       "      <td>C85</td>\n",
       "      <td>C</td>\n",
       "    </tr>\n",
       "    <tr>\n",
       "      <th>2</th>\n",
       "      <td>3</td>\n",
       "      <td>1</td>\n",
       "      <td>3</td>\n",
       "      <td>Heikkinen, Miss. Laina</td>\n",
       "      <td>female</td>\n",
       "      <td>26.0</td>\n",
       "      <td>0</td>\n",
       "      <td>0</td>\n",
       "      <td>STON/O2. 3101282</td>\n",
       "      <td>7.9250</td>\n",
       "      <td>NaN</td>\n",
       "      <td>S</td>\n",
       "    </tr>\n",
       "    <tr>\n",
       "      <th>3</th>\n",
       "      <td>4</td>\n",
       "      <td>1</td>\n",
       "      <td>1</td>\n",
       "      <td>Futrelle, Mrs. Jacques Heath (Lily May Peel)</td>\n",
       "      <td>female</td>\n",
       "      <td>35.0</td>\n",
       "      <td>1</td>\n",
       "      <td>0</td>\n",
       "      <td>113803</td>\n",
       "      <td>53.1000</td>\n",
       "      <td>C123</td>\n",
       "      <td>S</td>\n",
       "    </tr>\n",
       "    <tr>\n",
       "      <th>4</th>\n",
       "      <td>5</td>\n",
       "      <td>0</td>\n",
       "      <td>3</td>\n",
       "      <td>Allen, Mr. William Henry</td>\n",
       "      <td>male</td>\n",
       "      <td>35.0</td>\n",
       "      <td>0</td>\n",
       "      <td>0</td>\n",
       "      <td>373450</td>\n",
       "      <td>8.0500</td>\n",
       "      <td>NaN</td>\n",
       "      <td>S</td>\n",
       "    </tr>\n",
       "  </tbody>\n",
       "</table>\n",
       "</div>"
      ],
      "text/plain": [
       "   PassengerId  Survived  Pclass  \\\n",
       "0            1         0       3   \n",
       "1            2         1       1   \n",
       "2            3         1       3   \n",
       "3            4         1       1   \n",
       "4            5         0       3   \n",
       "\n",
       "                                                Name     Sex   Age  SibSp  \\\n",
       "0                            Braund, Mr. Owen Harris    male  22.0      1   \n",
       "1  Cumings, Mrs. John Bradley (Florence Briggs Th...  female  38.0      1   \n",
       "2                             Heikkinen, Miss. Laina  female  26.0      0   \n",
       "3       Futrelle, Mrs. Jacques Heath (Lily May Peel)  female  35.0      1   \n",
       "4                           Allen, Mr. William Henry    male  35.0      0   \n",
       "\n",
       "   Parch            Ticket     Fare Cabin Embarked  \n",
       "0      0         A/5 21171   7.2500   NaN        S  \n",
       "1      0          PC 17599  71.2833   C85        C  \n",
       "2      0  STON/O2. 3101282   7.9250   NaN        S  \n",
       "3      0            113803  53.1000  C123        S  \n",
       "4      0            373450   8.0500   NaN        S  "
      ]
     },
     "execution_count": 4,
     "metadata": {},
     "output_type": "execute_result"
    }
   ],
   "source": [
    "train_data.head()\n"
   ]
  },
  {
   "cell_type": "code",
   "execution_count": 5,
   "id": "675edd2b",
   "metadata": {
    "execution": {
     "iopub.execute_input": "2024-04-07T17:06:43.067566Z",
     "iopub.status.busy": "2024-04-07T17:06:43.067113Z",
     "iopub.status.idle": "2024-04-07T17:06:43.085907Z",
     "shell.execute_reply": "2024-04-07T17:06:43.084886Z"
    },
    "papermill": {
     "duration": 0.038383,
     "end_time": "2024-04-07T17:06:43.088539",
     "exception": false,
     "start_time": "2024-04-07T17:06:43.050156",
     "status": "completed"
    },
    "tags": []
   },
   "outputs": [
    {
     "data": {
      "text/html": [
       "<div>\n",
       "<style scoped>\n",
       "    .dataframe tbody tr th:only-of-type {\n",
       "        vertical-align: middle;\n",
       "    }\n",
       "\n",
       "    .dataframe tbody tr th {\n",
       "        vertical-align: top;\n",
       "    }\n",
       "\n",
       "    .dataframe thead th {\n",
       "        text-align: right;\n",
       "    }\n",
       "</style>\n",
       "<table border=\"1\" class=\"dataframe\">\n",
       "  <thead>\n",
       "    <tr style=\"text-align: right;\">\n",
       "      <th></th>\n",
       "      <th>PassengerId</th>\n",
       "      <th>Survived</th>\n",
       "      <th>Pclass</th>\n",
       "      <th>Name</th>\n",
       "      <th>Sex</th>\n",
       "      <th>Age</th>\n",
       "      <th>SibSp</th>\n",
       "      <th>Parch</th>\n",
       "      <th>Ticket</th>\n",
       "      <th>Fare</th>\n",
       "      <th>Cabin</th>\n",
       "      <th>Embarked</th>\n",
       "    </tr>\n",
       "  </thead>\n",
       "  <tbody>\n",
       "    <tr>\n",
       "      <th>886</th>\n",
       "      <td>887</td>\n",
       "      <td>0</td>\n",
       "      <td>2</td>\n",
       "      <td>Montvila, Rev. Juozas</td>\n",
       "      <td>male</td>\n",
       "      <td>27.0</td>\n",
       "      <td>0</td>\n",
       "      <td>0</td>\n",
       "      <td>211536</td>\n",
       "      <td>13.00</td>\n",
       "      <td>NaN</td>\n",
       "      <td>S</td>\n",
       "    </tr>\n",
       "    <tr>\n",
       "      <th>887</th>\n",
       "      <td>888</td>\n",
       "      <td>1</td>\n",
       "      <td>1</td>\n",
       "      <td>Graham, Miss. Margaret Edith</td>\n",
       "      <td>female</td>\n",
       "      <td>19.0</td>\n",
       "      <td>0</td>\n",
       "      <td>0</td>\n",
       "      <td>112053</td>\n",
       "      <td>30.00</td>\n",
       "      <td>B42</td>\n",
       "      <td>S</td>\n",
       "    </tr>\n",
       "    <tr>\n",
       "      <th>888</th>\n",
       "      <td>889</td>\n",
       "      <td>0</td>\n",
       "      <td>3</td>\n",
       "      <td>Johnston, Miss. Catherine Helen \"Carrie\"</td>\n",
       "      <td>female</td>\n",
       "      <td>NaN</td>\n",
       "      <td>1</td>\n",
       "      <td>2</td>\n",
       "      <td>W./C. 6607</td>\n",
       "      <td>23.45</td>\n",
       "      <td>NaN</td>\n",
       "      <td>S</td>\n",
       "    </tr>\n",
       "    <tr>\n",
       "      <th>889</th>\n",
       "      <td>890</td>\n",
       "      <td>1</td>\n",
       "      <td>1</td>\n",
       "      <td>Behr, Mr. Karl Howell</td>\n",
       "      <td>male</td>\n",
       "      <td>26.0</td>\n",
       "      <td>0</td>\n",
       "      <td>0</td>\n",
       "      <td>111369</td>\n",
       "      <td>30.00</td>\n",
       "      <td>C148</td>\n",
       "      <td>C</td>\n",
       "    </tr>\n",
       "    <tr>\n",
       "      <th>890</th>\n",
       "      <td>891</td>\n",
       "      <td>0</td>\n",
       "      <td>3</td>\n",
       "      <td>Dooley, Mr. Patrick</td>\n",
       "      <td>male</td>\n",
       "      <td>32.0</td>\n",
       "      <td>0</td>\n",
       "      <td>0</td>\n",
       "      <td>370376</td>\n",
       "      <td>7.75</td>\n",
       "      <td>NaN</td>\n",
       "      <td>Q</td>\n",
       "    </tr>\n",
       "  </tbody>\n",
       "</table>\n",
       "</div>"
      ],
      "text/plain": [
       "     PassengerId  Survived  Pclass                                      Name  \\\n",
       "886          887         0       2                     Montvila, Rev. Juozas   \n",
       "887          888         1       1              Graham, Miss. Margaret Edith   \n",
       "888          889         0       3  Johnston, Miss. Catherine Helen \"Carrie\"   \n",
       "889          890         1       1                     Behr, Mr. Karl Howell   \n",
       "890          891         0       3                       Dooley, Mr. Patrick   \n",
       "\n",
       "        Sex   Age  SibSp  Parch      Ticket   Fare Cabin Embarked  \n",
       "886    male  27.0      0      0      211536  13.00   NaN        S  \n",
       "887  female  19.0      0      0      112053  30.00   B42        S  \n",
       "888  female   NaN      1      2  W./C. 6607  23.45   NaN        S  \n",
       "889    male  26.0      0      0      111369  30.00  C148        C  \n",
       "890    male  32.0      0      0      370376   7.75   NaN        Q  "
      ]
     },
     "execution_count": 5,
     "metadata": {},
     "output_type": "execute_result"
    }
   ],
   "source": [
    "train_data.tail()"
   ]
  },
  {
   "cell_type": "code",
   "execution_count": 6,
   "id": "1b4b7c38",
   "metadata": {
    "execution": {
     "iopub.execute_input": "2024-04-07T17:06:43.121594Z",
     "iopub.status.busy": "2024-04-07T17:06:43.120890Z",
     "iopub.status.idle": "2024-04-07T17:06:43.147219Z",
     "shell.execute_reply": "2024-04-07T17:06:43.145631Z"
    },
    "papermill": {
     "duration": 0.045863,
     "end_time": "2024-04-07T17:06:43.150491",
     "exception": false,
     "start_time": "2024-04-07T17:06:43.104628",
     "status": "completed"
    },
    "tags": []
   },
   "outputs": [
    {
     "data": {
      "text/html": [
       "<div>\n",
       "<style scoped>\n",
       "    .dataframe tbody tr th:only-of-type {\n",
       "        vertical-align: middle;\n",
       "    }\n",
       "\n",
       "    .dataframe tbody tr th {\n",
       "        vertical-align: top;\n",
       "    }\n",
       "\n",
       "    .dataframe thead th {\n",
       "        text-align: right;\n",
       "    }\n",
       "</style>\n",
       "<table border=\"1\" class=\"dataframe\">\n",
       "  <thead>\n",
       "    <tr style=\"text-align: right;\">\n",
       "      <th></th>\n",
       "      <th>PassengerId</th>\n",
       "      <th>Survived</th>\n",
       "      <th>Pclass</th>\n",
       "      <th>Name</th>\n",
       "      <th>Sex</th>\n",
       "      <th>Age</th>\n",
       "      <th>SibSp</th>\n",
       "      <th>Parch</th>\n",
       "      <th>Ticket</th>\n",
       "      <th>Fare</th>\n",
       "      <th>Cabin</th>\n",
       "      <th>Embarked</th>\n",
       "    </tr>\n",
       "  </thead>\n",
       "  <tbody>\n",
       "    <tr>\n",
       "      <th>484</th>\n",
       "      <td>485</td>\n",
       "      <td>1</td>\n",
       "      <td>1</td>\n",
       "      <td>Bishop, Mr. Dickinson H</td>\n",
       "      <td>male</td>\n",
       "      <td>25.0</td>\n",
       "      <td>1</td>\n",
       "      <td>0</td>\n",
       "      <td>11967</td>\n",
       "      <td>91.0792</td>\n",
       "      <td>B49</td>\n",
       "      <td>C</td>\n",
       "    </tr>\n",
       "  </tbody>\n",
       "</table>\n",
       "</div>"
      ],
      "text/plain": [
       "     PassengerId  Survived  Pclass                     Name   Sex   Age  \\\n",
       "484          485         1       1  Bishop, Mr. Dickinson H  male  25.0   \n",
       "\n",
       "     SibSp  Parch Ticket     Fare Cabin Embarked  \n",
       "484      1      0  11967  91.0792   B49        C  "
      ]
     },
     "execution_count": 6,
     "metadata": {},
     "output_type": "execute_result"
    }
   ],
   "source": [
    "train_data.sample()"
   ]
  },
  {
   "cell_type": "code",
   "execution_count": 7,
   "id": "628a5005",
   "metadata": {
    "execution": {
     "iopub.execute_input": "2024-04-07T17:06:43.184199Z",
     "iopub.status.busy": "2024-04-07T17:06:43.183804Z",
     "iopub.status.idle": "2024-04-07T17:06:43.215934Z",
     "shell.execute_reply": "2024-04-07T17:06:43.213911Z"
    },
    "papermill": {
     "duration": 0.053145,
     "end_time": "2024-04-07T17:06:43.218856",
     "exception": false,
     "start_time": "2024-04-07T17:06:43.165711",
     "status": "completed"
    },
    "tags": []
   },
   "outputs": [
    {
     "name": "stdout",
     "output_type": "stream",
     "text": [
      "<class 'pandas.core.frame.DataFrame'>\n",
      "RangeIndex: 891 entries, 0 to 890\n",
      "Data columns (total 12 columns):\n",
      " #   Column       Non-Null Count  Dtype  \n",
      "---  ------       --------------  -----  \n",
      " 0   PassengerId  891 non-null    int64  \n",
      " 1   Survived     891 non-null    int64  \n",
      " 2   Pclass       891 non-null    int64  \n",
      " 3   Name         891 non-null    object \n",
      " 4   Sex          891 non-null    object \n",
      " 5   Age          714 non-null    float64\n",
      " 6   SibSp        891 non-null    int64  \n",
      " 7   Parch        891 non-null    int64  \n",
      " 8   Ticket       891 non-null    object \n",
      " 9   Fare         891 non-null    float64\n",
      " 10  Cabin        204 non-null    object \n",
      " 11  Embarked     889 non-null    object \n",
      "dtypes: float64(2), int64(5), object(5)\n",
      "memory usage: 83.7+ KB\n"
     ]
    }
   ],
   "source": [
    "train_data.info()"
   ]
  },
  {
   "cell_type": "code",
   "execution_count": 8,
   "id": "143b9ad1",
   "metadata": {
    "execution": {
     "iopub.execute_input": "2024-04-07T17:06:43.251903Z",
     "iopub.status.busy": "2024-04-07T17:06:43.251500Z",
     "iopub.status.idle": "2024-04-07T17:06:43.291925Z",
     "shell.execute_reply": "2024-04-07T17:06:43.290675Z"
    },
    "papermill": {
     "duration": 0.061859,
     "end_time": "2024-04-07T17:06:43.295845",
     "exception": false,
     "start_time": "2024-04-07T17:06:43.233986",
     "status": "completed"
    },
    "tags": []
   },
   "outputs": [
    {
     "data": {
      "text/html": [
       "<div>\n",
       "<style scoped>\n",
       "    .dataframe tbody tr th:only-of-type {\n",
       "        vertical-align: middle;\n",
       "    }\n",
       "\n",
       "    .dataframe tbody tr th {\n",
       "        vertical-align: top;\n",
       "    }\n",
       "\n",
       "    .dataframe thead th {\n",
       "        text-align: right;\n",
       "    }\n",
       "</style>\n",
       "<table border=\"1\" class=\"dataframe\">\n",
       "  <thead>\n",
       "    <tr style=\"text-align: right;\">\n",
       "      <th></th>\n",
       "      <th>PassengerId</th>\n",
       "      <th>Survived</th>\n",
       "      <th>Pclass</th>\n",
       "      <th>Age</th>\n",
       "      <th>SibSp</th>\n",
       "      <th>Parch</th>\n",
       "      <th>Fare</th>\n",
       "    </tr>\n",
       "  </thead>\n",
       "  <tbody>\n",
       "    <tr>\n",
       "      <th>count</th>\n",
       "      <td>891.000000</td>\n",
       "      <td>891.000000</td>\n",
       "      <td>891.000000</td>\n",
       "      <td>714.000000</td>\n",
       "      <td>891.000000</td>\n",
       "      <td>891.000000</td>\n",
       "      <td>891.000000</td>\n",
       "    </tr>\n",
       "    <tr>\n",
       "      <th>mean</th>\n",
       "      <td>446.000000</td>\n",
       "      <td>0.383838</td>\n",
       "      <td>2.308642</td>\n",
       "      <td>29.699118</td>\n",
       "      <td>0.523008</td>\n",
       "      <td>0.381594</td>\n",
       "      <td>32.204208</td>\n",
       "    </tr>\n",
       "    <tr>\n",
       "      <th>std</th>\n",
       "      <td>257.353842</td>\n",
       "      <td>0.486592</td>\n",
       "      <td>0.836071</td>\n",
       "      <td>14.526497</td>\n",
       "      <td>1.102743</td>\n",
       "      <td>0.806057</td>\n",
       "      <td>49.693429</td>\n",
       "    </tr>\n",
       "    <tr>\n",
       "      <th>min</th>\n",
       "      <td>1.000000</td>\n",
       "      <td>0.000000</td>\n",
       "      <td>1.000000</td>\n",
       "      <td>0.420000</td>\n",
       "      <td>0.000000</td>\n",
       "      <td>0.000000</td>\n",
       "      <td>0.000000</td>\n",
       "    </tr>\n",
       "    <tr>\n",
       "      <th>25%</th>\n",
       "      <td>223.500000</td>\n",
       "      <td>0.000000</td>\n",
       "      <td>2.000000</td>\n",
       "      <td>20.125000</td>\n",
       "      <td>0.000000</td>\n",
       "      <td>0.000000</td>\n",
       "      <td>7.910400</td>\n",
       "    </tr>\n",
       "    <tr>\n",
       "      <th>50%</th>\n",
       "      <td>446.000000</td>\n",
       "      <td>0.000000</td>\n",
       "      <td>3.000000</td>\n",
       "      <td>28.000000</td>\n",
       "      <td>0.000000</td>\n",
       "      <td>0.000000</td>\n",
       "      <td>14.454200</td>\n",
       "    </tr>\n",
       "    <tr>\n",
       "      <th>75%</th>\n",
       "      <td>668.500000</td>\n",
       "      <td>1.000000</td>\n",
       "      <td>3.000000</td>\n",
       "      <td>38.000000</td>\n",
       "      <td>1.000000</td>\n",
       "      <td>0.000000</td>\n",
       "      <td>31.000000</td>\n",
       "    </tr>\n",
       "    <tr>\n",
       "      <th>max</th>\n",
       "      <td>891.000000</td>\n",
       "      <td>1.000000</td>\n",
       "      <td>3.000000</td>\n",
       "      <td>80.000000</td>\n",
       "      <td>8.000000</td>\n",
       "      <td>6.000000</td>\n",
       "      <td>512.329200</td>\n",
       "    </tr>\n",
       "  </tbody>\n",
       "</table>\n",
       "</div>"
      ],
      "text/plain": [
       "       PassengerId    Survived      Pclass         Age       SibSp  \\\n",
       "count   891.000000  891.000000  891.000000  714.000000  891.000000   \n",
       "mean    446.000000    0.383838    2.308642   29.699118    0.523008   \n",
       "std     257.353842    0.486592    0.836071   14.526497    1.102743   \n",
       "min       1.000000    0.000000    1.000000    0.420000    0.000000   \n",
       "25%     223.500000    0.000000    2.000000   20.125000    0.000000   \n",
       "50%     446.000000    0.000000    3.000000   28.000000    0.000000   \n",
       "75%     668.500000    1.000000    3.000000   38.000000    1.000000   \n",
       "max     891.000000    1.000000    3.000000   80.000000    8.000000   \n",
       "\n",
       "            Parch        Fare  \n",
       "count  891.000000  891.000000  \n",
       "mean     0.381594   32.204208  \n",
       "std      0.806057   49.693429  \n",
       "min      0.000000    0.000000  \n",
       "25%      0.000000    7.910400  \n",
       "50%      0.000000   14.454200  \n",
       "75%      0.000000   31.000000  \n",
       "max      6.000000  512.329200  "
      ]
     },
     "execution_count": 8,
     "metadata": {},
     "output_type": "execute_result"
    }
   ],
   "source": [
    "train_data.describe()"
   ]
  },
  {
   "cell_type": "code",
   "execution_count": 9,
   "id": "772ea673",
   "metadata": {
    "execution": {
     "iopub.execute_input": "2024-04-07T17:06:43.330454Z",
     "iopub.status.busy": "2024-04-07T17:06:43.329976Z",
     "iopub.status.idle": "2024-04-07T17:06:43.341749Z",
     "shell.execute_reply": "2024-04-07T17:06:43.340543Z"
    },
    "papermill": {
     "duration": 0.031669,
     "end_time": "2024-04-07T17:06:43.344396",
     "exception": false,
     "start_time": "2024-04-07T17:06:43.312727",
     "status": "completed"
    },
    "tags": []
   },
   "outputs": [
    {
     "data": {
      "text/plain": [
       "Age         177\n",
       "Cabin       687\n",
       "Embarked      2\n",
       "dtype: int64"
      ]
     },
     "execution_count": 9,
     "metadata": {},
     "output_type": "execute_result"
    }
   ],
   "source": [
    "SumNull = train_data.isna().sum()\n",
    "SumNull[SumNull > 0]"
   ]
  },
  {
   "cell_type": "code",
   "execution_count": 10,
   "id": "d0b5655d",
   "metadata": {
    "execution": {
     "iopub.execute_input": "2024-04-07T17:06:43.378411Z",
     "iopub.status.busy": "2024-04-07T17:06:43.377960Z",
     "iopub.status.idle": "2024-04-07T17:06:44.125262Z",
     "shell.execute_reply": "2024-04-07T17:06:44.123966Z"
    },
    "papermill": {
     "duration": 0.76834,
     "end_time": "2024-04-07T17:06:44.128459",
     "exception": false,
     "start_time": "2024-04-07T17:06:43.360119",
     "status": "completed"
    },
    "tags": []
   },
   "outputs": [
    {
     "data": {
      "text/plain": [
       "<Axes: >"
      ]
     },
     "execution_count": 10,
     "metadata": {},
     "output_type": "execute_result"
    },
    {
     "data": {
      "image/png": "[encoded data removed]",
      "text/plain": [
       "<Figure size 640x480 with 2 Axes>"
      ]
     },
     "metadata": {},
     "output_type": "display_data"
    }
   ],
   "source": [
    "sns.heatmap(train_data.isna())"
   ]
  },
  {
   "cell_type": "markdown",
   "id": "2957d506",
   "metadata": {
    "papermill": {
     "duration": 0.019797,
     "end_time": "2024-04-07T17:06:44.166554",
     "exception": false,
     "start_time": "2024-04-07T17:06:44.146757",
     "status": "completed"
    },
    "tags": []
   },
   "source": [
    "## 2- Clean data"
   ]
  },
  {
   "cell_type": "code",
   "execution_count": 11,
   "id": "3946fb7a",
   "metadata": {
    "execution": {
     "iopub.execute_input": "2024-04-07T17:06:44.204524Z",
     "iopub.status.busy": "2024-04-07T17:06:44.203788Z",
     "iopub.status.idle": "2024-04-07T17:06:44.209633Z",
     "shell.execute_reply": "2024-04-07T17:06:44.208638Z"
    },
    "papermill": {
     "duration": 0.02803,
     "end_time": "2024-04-07T17:06:44.212227",
     "exception": false,
     "start_time": "2024-04-07T17:06:44.184197",
     "status": "completed"
    },
    "tags": []
   },
   "outputs": [],
   "source": [
    "def clean(d):\n",
    "    d.drop(['Cabin','Name','Ticket','Embarked','Fare','Sex'], axis = 1, inplace = True)\n",
    "    d.Age = d.Age.fillna(d.Age.median())\n",
    "    d.dropna()\n",
    "    return d"
   ]
  },
  {
   "cell_type": "code",
   "execution_count": 12,
   "id": "5be05bd2",
   "metadata": {
    "execution": {
     "iopub.execute_input": "2024-04-07T17:06:44.251791Z",
     "iopub.status.busy": "2024-04-07T17:06:44.251031Z",
     "iopub.status.idle": "2024-04-07T17:06:44.272774Z",
     "shell.execute_reply": "2024-04-07T17:06:44.271788Z"
    },
    "papermill": {
     "duration": 0.045806,
     "end_time": "2024-04-07T17:06:44.275339",
     "exception": false,
     "start_time": "2024-04-07T17:06:44.229533",
     "status": "completed"
    },
    "tags": []
   },
   "outputs": [
    {
     "data": {
      "text/html": [
       "<div>\n",
       "<style scoped>\n",
       "    .dataframe tbody tr th:only-of-type {\n",
       "        vertical-align: middle;\n",
       "    }\n",
       "\n",
       "    .dataframe tbody tr th {\n",
       "        vertical-align: top;\n",
       "    }\n",
       "\n",
       "    .dataframe thead th {\n",
       "        text-align: right;\n",
       "    }\n",
       "</style>\n",
       "<table border=\"1\" class=\"dataframe\">\n",
       "  <thead>\n",
       "    <tr style=\"text-align: right;\">\n",
       "      <th></th>\n",
       "      <th>PassengerId</th>\n",
       "      <th>Survived</th>\n",
       "      <th>Pclass</th>\n",
       "      <th>Age</th>\n",
       "      <th>SibSp</th>\n",
       "      <th>Parch</th>\n",
       "    </tr>\n",
       "  </thead>\n",
       "  <tbody>\n",
       "    <tr>\n",
       "      <th>0</th>\n",
       "      <td>1</td>\n",
       "      <td>0</td>\n",
       "      <td>3</td>\n",
       "      <td>22.0</td>\n",
       "      <td>1</td>\n",
       "      <td>0</td>\n",
       "    </tr>\n",
       "    <tr>\n",
       "      <th>1</th>\n",
       "      <td>2</td>\n",
       "      <td>1</td>\n",
       "      <td>1</td>\n",
       "      <td>38.0</td>\n",
       "      <td>1</td>\n",
       "      <td>0</td>\n",
       "    </tr>\n",
       "    <tr>\n",
       "      <th>2</th>\n",
       "      <td>3</td>\n",
       "      <td>1</td>\n",
       "      <td>3</td>\n",
       "      <td>26.0</td>\n",
       "      <td>0</td>\n",
       "      <td>0</td>\n",
       "    </tr>\n",
       "    <tr>\n",
       "      <th>3</th>\n",
       "      <td>4</td>\n",
       "      <td>1</td>\n",
       "      <td>1</td>\n",
       "      <td>35.0</td>\n",
       "      <td>1</td>\n",
       "      <td>0</td>\n",
       "    </tr>\n",
       "    <tr>\n",
       "      <th>4</th>\n",
       "      <td>5</td>\n",
       "      <td>0</td>\n",
       "      <td>3</td>\n",
       "      <td>35.0</td>\n",
       "      <td>0</td>\n",
       "      <td>0</td>\n",
       "    </tr>\n",
       "    <tr>\n",
       "      <th>...</th>\n",
       "      <td>...</td>\n",
       "      <td>...</td>\n",
       "      <td>...</td>\n",
       "      <td>...</td>\n",
       "      <td>...</td>\n",
       "      <td>...</td>\n",
       "    </tr>\n",
       "    <tr>\n",
       "      <th>886</th>\n",
       "      <td>887</td>\n",
       "      <td>0</td>\n",
       "      <td>2</td>\n",
       "      <td>27.0</td>\n",
       "      <td>0</td>\n",
       "      <td>0</td>\n",
       "    </tr>\n",
       "    <tr>\n",
       "      <th>887</th>\n",
       "      <td>888</td>\n",
       "      <td>1</td>\n",
       "      <td>1</td>\n",
       "      <td>19.0</td>\n",
       "      <td>0</td>\n",
       "      <td>0</td>\n",
       "    </tr>\n",
       "    <tr>\n",
       "      <th>888</th>\n",
       "      <td>889</td>\n",
       "      <td>0</td>\n",
       "      <td>3</td>\n",
       "      <td>28.0</td>\n",
       "      <td>1</td>\n",
       "      <td>2</td>\n",
       "    </tr>\n",
       "    <tr>\n",
       "      <th>889</th>\n",
       "      <td>890</td>\n",
       "      <td>1</td>\n",
       "      <td>1</td>\n",
       "      <td>26.0</td>\n",
       "      <td>0</td>\n",
       "      <td>0</td>\n",
       "    </tr>\n",
       "    <tr>\n",
       "      <th>890</th>\n",
       "      <td>891</td>\n",
       "      <td>0</td>\n",
       "      <td>3</td>\n",
       "      <td>32.0</td>\n",
       "      <td>0</td>\n",
       "      <td>0</td>\n",
       "    </tr>\n",
       "  </tbody>\n",
       "</table>\n",
       "<p>891 rows × 6 columns</p>\n",
       "</div>"
      ],
      "text/plain": [
       "     PassengerId  Survived  Pclass   Age  SibSp  Parch\n",
       "0              1         0       3  22.0      1      0\n",
       "1              2         1       1  38.0      1      0\n",
       "2              3         1       3  26.0      0      0\n",
       "3              4         1       1  35.0      1      0\n",
       "4              5         0       3  35.0      0      0\n",
       "..           ...       ...     ...   ...    ...    ...\n",
       "886          887         0       2  27.0      0      0\n",
       "887          888         1       1  19.0      0      0\n",
       "888          889         0       3  28.0      1      2\n",
       "889          890         1       1  26.0      0      0\n",
       "890          891         0       3  32.0      0      0\n",
       "\n",
       "[891 rows x 6 columns]"
      ]
     },
     "execution_count": 12,
     "metadata": {},
     "output_type": "execute_result"
    }
   ],
   "source": [
    "clean(train_data)"
   ]
  },
  {
   "cell_type": "code",
   "execution_count": 13,
   "id": "40ef6d2c",
   "metadata": {
    "execution": {
     "iopub.execute_input": "2024-04-07T17:06:44.313401Z",
     "iopub.status.busy": "2024-04-07T17:06:44.312741Z",
     "iopub.status.idle": "2024-04-07T17:06:44.329510Z",
     "shell.execute_reply": "2024-04-07T17:06:44.328479Z"
    },
    "papermill": {
     "duration": 0.039562,
     "end_time": "2024-04-07T17:06:44.332208",
     "exception": false,
     "start_time": "2024-04-07T17:06:44.292646",
     "status": "completed"
    },
    "tags": []
   },
   "outputs": [
    {
     "data": {
      "text/html": [
       "<div>\n",
       "<style scoped>\n",
       "    .dataframe tbody tr th:only-of-type {\n",
       "        vertical-align: middle;\n",
       "    }\n",
       "\n",
       "    .dataframe tbody tr th {\n",
       "        vertical-align: top;\n",
       "    }\n",
       "\n",
       "    .dataframe thead th {\n",
       "        text-align: right;\n",
       "    }\n",
       "</style>\n",
       "<table border=\"1\" class=\"dataframe\">\n",
       "  <thead>\n",
       "    <tr style=\"text-align: right;\">\n",
       "      <th></th>\n",
       "      <th>PassengerId</th>\n",
       "      <th>Pclass</th>\n",
       "      <th>Age</th>\n",
       "      <th>SibSp</th>\n",
       "      <th>Parch</th>\n",
       "    </tr>\n",
       "  </thead>\n",
       "  <tbody>\n",
       "    <tr>\n",
       "      <th>0</th>\n",
       "      <td>892</td>\n",
       "      <td>3</td>\n",
       "      <td>34.5</td>\n",
       "      <td>0</td>\n",
       "      <td>0</td>\n",
       "    </tr>\n",
       "    <tr>\n",
       "      <th>1</th>\n",
       "      <td>893</td>\n",
       "      <td>3</td>\n",
       "      <td>47.0</td>\n",
       "      <td>1</td>\n",
       "      <td>0</td>\n",
       "    </tr>\n",
       "    <tr>\n",
       "      <th>2</th>\n",
       "      <td>894</td>\n",
       "      <td>2</td>\n",
       "      <td>62.0</td>\n",
       "      <td>0</td>\n",
       "      <td>0</td>\n",
       "    </tr>\n",
       "    <tr>\n",
       "      <th>3</th>\n",
       "      <td>895</td>\n",
       "      <td>3</td>\n",
       "      <td>27.0</td>\n",
       "      <td>0</td>\n",
       "      <td>0</td>\n",
       "    </tr>\n",
       "    <tr>\n",
       "      <th>4</th>\n",
       "      <td>896</td>\n",
       "      <td>3</td>\n",
       "      <td>22.0</td>\n",
       "      <td>1</td>\n",
       "      <td>1</td>\n",
       "    </tr>\n",
       "    <tr>\n",
       "      <th>...</th>\n",
       "      <td>...</td>\n",
       "      <td>...</td>\n",
       "      <td>...</td>\n",
       "      <td>...</td>\n",
       "      <td>...</td>\n",
       "    </tr>\n",
       "    <tr>\n",
       "      <th>413</th>\n",
       "      <td>1305</td>\n",
       "      <td>3</td>\n",
       "      <td>27.0</td>\n",
       "      <td>0</td>\n",
       "      <td>0</td>\n",
       "    </tr>\n",
       "    <tr>\n",
       "      <th>414</th>\n",
       "      <td>1306</td>\n",
       "      <td>1</td>\n",
       "      <td>39.0</td>\n",
       "      <td>0</td>\n",
       "      <td>0</td>\n",
       "    </tr>\n",
       "    <tr>\n",
       "      <th>415</th>\n",
       "      <td>1307</td>\n",
       "      <td>3</td>\n",
       "      <td>38.5</td>\n",
       "      <td>0</td>\n",
       "      <td>0</td>\n",
       "    </tr>\n",
       "    <tr>\n",
       "      <th>416</th>\n",
       "      <td>1308</td>\n",
       "      <td>3</td>\n",
       "      <td>27.0</td>\n",
       "      <td>0</td>\n",
       "      <td>0</td>\n",
       "    </tr>\n",
       "    <tr>\n",
       "      <th>417</th>\n",
       "      <td>1309</td>\n",
       "      <td>3</td>\n",
       "      <td>27.0</td>\n",
       "      <td>1</td>\n",
       "      <td>1</td>\n",
       "    </tr>\n",
       "  </tbody>\n",
       "</table>\n",
       "<p>418 rows × 5 columns</p>\n",
       "</div>"
      ],
      "text/plain": [
       "     PassengerId  Pclass   Age  SibSp  Parch\n",
       "0            892       3  34.5      0      0\n",
       "1            893       3  47.0      1      0\n",
       "2            894       2  62.0      0      0\n",
       "3            895       3  27.0      0      0\n",
       "4            896       3  22.0      1      1\n",
       "..           ...     ...   ...    ...    ...\n",
       "413         1305       3  27.0      0      0\n",
       "414         1306       1  39.0      0      0\n",
       "415         1307       3  38.5      0      0\n",
       "416         1308       3  27.0      0      0\n",
       "417         1309       3  27.0      1      1\n",
       "\n",
       "[418 rows x 5 columns]"
      ]
     },
     "execution_count": 13,
     "metadata": {},
     "output_type": "execute_result"
    }
   ],
   "source": [
    "clean(test_data)"
   ]
  },
  {
   "cell_type": "code",
   "execution_count": 14,
   "id": "e0b3ac86",
   "metadata": {
    "execution": {
     "iopub.execute_input": "2024-04-07T17:06:44.370408Z",
     "iopub.status.busy": "2024-04-07T17:06:44.369972Z",
     "iopub.status.idle": "2024-04-07T17:06:45.004651Z",
     "shell.execute_reply": "2024-04-07T17:06:45.003142Z"
    },
    "papermill": {
     "duration": 0.657449,
     "end_time": "2024-04-07T17:06:45.007806",
     "exception": false,
     "start_time": "2024-04-07T17:06:44.350357",
     "status": "completed"
    },
    "tags": []
   },
   "outputs": [
    {
     "data": {
      "text/plain": [
       "<Axes: >"
      ]
     },
     "execution_count": 14,
     "metadata": {},
     "output_type": "execute_result"
    },
    {
     "data": {
      "image/png": "[encoded data removed]",
      "text/plain": [
       "<Figure size 640x480 with 2 Axes>"
      ]
     },
     "metadata": {},
     "output_type": "display_data"
    }
   ],
   "source": [
    "sns.heatmap(train_data.isna())"
   ]
  },
  {
   "cell_type": "markdown",
   "id": "2c75ef5b",
   "metadata": {
    "papermill": {
     "duration": 0.018343,
     "end_time": "2024-04-07T17:06:45.044274",
     "exception": false,
     "start_time": "2024-04-07T17:06:45.025931",
     "status": "completed"
    },
    "tags": []
   },
   "source": [
    "## 3- Data Analysis"
   ]
  },
  {
   "cell_type": "code",
   "execution_count": 15,
   "id": "952cf455",
   "metadata": {
    "execution": {
     "iopub.execute_input": "2024-04-07T17:06:45.083556Z",
     "iopub.status.busy": "2024-04-07T17:06:45.083042Z",
     "iopub.status.idle": "2024-04-07T17:06:45.093780Z",
     "shell.execute_reply": "2024-04-07T17:06:45.092226Z"
    },
    "papermill": {
     "duration": 0.034148,
     "end_time": "2024-04-07T17:06:45.096868",
     "exception": false,
     "start_time": "2024-04-07T17:06:45.062720",
     "status": "completed"
    },
    "tags": []
   },
   "outputs": [],
   "source": [
    "co = train_data.corr()"
   ]
  },
  {
   "cell_type": "code",
   "execution_count": 16,
   "id": "b4ed62c0",
   "metadata": {
    "execution": {
     "iopub.execute_input": "2024-04-07T17:06:45.135508Z",
     "iopub.status.busy": "2024-04-07T17:06:45.135048Z",
     "iopub.status.idle": "2024-04-07T17:06:45.639554Z",
     "shell.execute_reply": "2024-04-07T17:06:45.638070Z"
    },
    "papermill": {
     "duration": 0.527746,
     "end_time": "2024-04-07T17:06:45.642492",
     "exception": false,
     "start_time": "2024-04-07T17:06:45.114746",
     "status": "completed"
    },
    "tags": []
   },
   "outputs": [
    {
     "data": {
      "text/plain": [
       "<Axes: >"
      ]
     },
     "execution_count": 16,
     "metadata": {},
     "output_type": "execute_result"
    },
    {
     "data": {
      "image/png": "[encoded data removed]",
      "text/plain": [
       "<Figure size 640x480 with 2 Axes>"
      ]
     },
     "metadata": {},
     "output_type": "display_data"
    }
   ],
   "source": [
    "sns.heatmap(co, annot = True, fmt = '.1f', linewidth =.5)"
   ]
  },
  {
   "cell_type": "code",
   "execution_count": 17,
   "id": "948219fb",
   "metadata": {
    "execution": {
     "iopub.execute_input": "2024-04-07T17:06:45.684433Z",
     "iopub.status.busy": "2024-04-07T17:06:45.683996Z",
     "iopub.status.idle": "2024-04-07T17:06:45.695343Z",
     "shell.execute_reply": "2024-04-07T17:06:45.693957Z"
    },
    "papermill": {
     "duration": 0.036131,
     "end_time": "2024-04-07T17:06:45.698471",
     "exception": false,
     "start_time": "2024-04-07T17:06:45.662340",
     "status": "completed"
    },
    "tags": []
   },
   "outputs": [
    {
     "data": {
      "text/plain": [
       "Survived\n",
       "0    549\n",
       "1    342\n",
       "Name: count, dtype: int64"
      ]
     },
     "execution_count": 17,
     "metadata": {},
     "output_type": "execute_result"
    }
   ],
   "source": [
    "train_data.Survived.value_counts()"
   ]
  },
  {
   "cell_type": "code",
   "execution_count": 18,
   "id": "be4a4887",
   "metadata": {
    "execution": {
     "iopub.execute_input": "2024-04-07T17:06:45.740059Z",
     "iopub.status.busy": "2024-04-07T17:06:45.739665Z",
     "iopub.status.idle": "2024-04-07T17:06:46.122878Z",
     "shell.execute_reply": "2024-04-07T17:06:46.121741Z"
    },
    "papermill": {
     "duration": 0.40755,
     "end_time": "2024-04-07T17:06:46.125536",
     "exception": false,
     "start_time": "2024-04-07T17:06:45.717986",
     "status": "completed"
    },
    "tags": []
   },
   "outputs": [
    {
     "name": "stderr",
     "output_type": "stream",
     "text": [
      "/opt/conda/lib/python3.10/site-packages/seaborn/_oldcore.py:1119: FutureWarning: use_inf_as_na option is deprecated and will be removed in a future version. Convert inf values to NaN before operating instead.\n",
      "  with pd.option_context('mode.use_inf_as_na', True):\n"
     ]
    },
    {
     "data": {
      "text/plain": [
       "<Axes: xlabel='Age', ylabel='Count'>"
      ]
     },
     "execution_count": 18,
     "metadata": {},
     "output_type": "execute_result"
    },
    {
     "data": {
      "image/png": "[encoded data removed]",
      "text/plain": [
       "<Figure size 640x480 with 1 Axes>"
      ]
     },
     "metadata": {},
     "output_type": "display_data"
    }
   ],
   "source": [
    "sns.histplot(train_data.Age)"
   ]
  },
  {
   "cell_type": "markdown",
   "id": "1be390ac",
   "metadata": {
    "papermill": {
     "duration": 0.019574,
     "end_time": "2024-04-07T17:06:46.164759",
     "exception": false,
     "start_time": "2024-04-07T17:06:46.145185",
     "status": "completed"
    },
    "tags": []
   },
   "source": [
    "## 4- Transform Data"
   ]
  },
  {
   "cell_type": "code",
   "execution_count": 19,
   "id": "c0d265c1",
   "metadata": {
    "execution": {
     "iopub.execute_input": "2024-04-07T17:06:46.273275Z",
     "iopub.status.busy": "2024-04-07T17:06:46.271542Z",
     "iopub.status.idle": "2024-04-07T17:06:46.284851Z",
     "shell.execute_reply": "2024-04-07T17:06:46.283734Z"
    },
    "papermill": {
     "duration": 0.10137,
     "end_time": "2024-04-07T17:06:46.287361",
     "exception": false,
     "start_time": "2024-04-07T17:06:46.185991",
     "status": "completed"
    },
    "tags": []
   },
   "outputs": [
    {
     "name": "stdout",
     "output_type": "stream",
     "text": [
      "<class 'pandas.core.frame.DataFrame'>\n",
      "RangeIndex: 891 entries, 0 to 890\n",
      "Data columns (total 6 columns):\n",
      " #   Column       Non-Null Count  Dtype  \n",
      "---  ------       --------------  -----  \n",
      " 0   PassengerId  891 non-null    int64  \n",
      " 1   Survived     891 non-null    int64  \n",
      " 2   Pclass       891 non-null    int64  \n",
      " 3   Age          891 non-null    float64\n",
      " 4   SibSp        891 non-null    int64  \n",
      " 5   Parch        891 non-null    int64  \n",
      "dtypes: float64(1), int64(5)\n",
      "memory usage: 41.9 KB\n"
     ]
    }
   ],
   "source": [
    "train_data.info()"
   ]
  },
  {
   "cell_type": "code",
   "execution_count": 20,
   "id": "815f64cf",
   "metadata": {
    "execution": {
     "iopub.execute_input": "2024-04-07T17:06:46.328991Z",
     "iopub.status.busy": "2024-04-07T17:06:46.328553Z",
     "iopub.status.idle": "2024-04-07T17:06:46.344614Z",
     "shell.execute_reply": "2024-04-07T17:06:46.343449Z"
    },
    "papermill": {
     "duration": 0.040221,
     "end_time": "2024-04-07T17:06:46.347460",
     "exception": false,
     "start_time": "2024-04-07T17:06:46.307239",
     "status": "completed"
    },
    "tags": []
   },
   "outputs": [
    {
     "data": {
      "text/html": [
       "<div>\n",
       "<style scoped>\n",
       "    .dataframe tbody tr th:only-of-type {\n",
       "        vertical-align: middle;\n",
       "    }\n",
       "\n",
       "    .dataframe tbody tr th {\n",
       "        vertical-align: top;\n",
       "    }\n",
       "\n",
       "    .dataframe thead th {\n",
       "        text-align: right;\n",
       "    }\n",
       "</style>\n",
       "<table border=\"1\" class=\"dataframe\">\n",
       "  <thead>\n",
       "    <tr style=\"text-align: right;\">\n",
       "      <th></th>\n",
       "      <th>PassengerId</th>\n",
       "      <th>Pclass</th>\n",
       "      <th>Age</th>\n",
       "      <th>SibSp</th>\n",
       "      <th>Parch</th>\n",
       "    </tr>\n",
       "  </thead>\n",
       "  <tbody>\n",
       "    <tr>\n",
       "      <th>0</th>\n",
       "      <td>892</td>\n",
       "      <td>3</td>\n",
       "      <td>34.5</td>\n",
       "      <td>0</td>\n",
       "      <td>0</td>\n",
       "    </tr>\n",
       "    <tr>\n",
       "      <th>1</th>\n",
       "      <td>893</td>\n",
       "      <td>3</td>\n",
       "      <td>47.0</td>\n",
       "      <td>1</td>\n",
       "      <td>0</td>\n",
       "    </tr>\n",
       "    <tr>\n",
       "      <th>2</th>\n",
       "      <td>894</td>\n",
       "      <td>2</td>\n",
       "      <td>62.0</td>\n",
       "      <td>0</td>\n",
       "      <td>0</td>\n",
       "    </tr>\n",
       "    <tr>\n",
       "      <th>3</th>\n",
       "      <td>895</td>\n",
       "      <td>3</td>\n",
       "      <td>27.0</td>\n",
       "      <td>0</td>\n",
       "      <td>0</td>\n",
       "    </tr>\n",
       "    <tr>\n",
       "      <th>4</th>\n",
       "      <td>896</td>\n",
       "      <td>3</td>\n",
       "      <td>22.0</td>\n",
       "      <td>1</td>\n",
       "      <td>1</td>\n",
       "    </tr>\n",
       "    <tr>\n",
       "      <th>...</th>\n",
       "      <td>...</td>\n",
       "      <td>...</td>\n",
       "      <td>...</td>\n",
       "      <td>...</td>\n",
       "      <td>...</td>\n",
       "    </tr>\n",
       "    <tr>\n",
       "      <th>413</th>\n",
       "      <td>1305</td>\n",
       "      <td>3</td>\n",
       "      <td>27.0</td>\n",
       "      <td>0</td>\n",
       "      <td>0</td>\n",
       "    </tr>\n",
       "    <tr>\n",
       "      <th>414</th>\n",
       "      <td>1306</td>\n",
       "      <td>1</td>\n",
       "      <td>39.0</td>\n",
       "      <td>0</td>\n",
       "      <td>0</td>\n",
       "    </tr>\n",
       "    <tr>\n",
       "      <th>415</th>\n",
       "      <td>1307</td>\n",
       "      <td>3</td>\n",
       "      <td>38.5</td>\n",
       "      <td>0</td>\n",
       "      <td>0</td>\n",
       "    </tr>\n",
       "    <tr>\n",
       "      <th>416</th>\n",
       "      <td>1308</td>\n",
       "      <td>3</td>\n",
       "      <td>27.0</td>\n",
       "      <td>0</td>\n",
       "      <td>0</td>\n",
       "    </tr>\n",
       "    <tr>\n",
       "      <th>417</th>\n",
       "      <td>1309</td>\n",
       "      <td>3</td>\n",
       "      <td>27.0</td>\n",
       "      <td>1</td>\n",
       "      <td>1</td>\n",
       "    </tr>\n",
       "  </tbody>\n",
       "</table>\n",
       "<p>418 rows × 5 columns</p>\n",
       "</div>"
      ],
      "text/plain": [
       "     PassengerId  Pclass   Age  SibSp  Parch\n",
       "0            892       3  34.5      0      0\n",
       "1            893       3  47.0      1      0\n",
       "2            894       2  62.0      0      0\n",
       "3            895       3  27.0      0      0\n",
       "4            896       3  22.0      1      1\n",
       "..           ...     ...   ...    ...    ...\n",
       "413         1305       3  27.0      0      0\n",
       "414         1306       1  39.0      0      0\n",
       "415         1307       3  38.5      0      0\n",
       "416         1308       3  27.0      0      0\n",
       "417         1309       3  27.0      1      1\n",
       "\n",
       "[418 rows x 5 columns]"
      ]
     },
     "execution_count": 20,
     "metadata": {},
     "output_type": "execute_result"
    }
   ],
   "source": [
    "test_data"
   ]
  },
  {
   "cell_type": "code",
   "execution_count": 21,
   "id": "84510f79",
   "metadata": {
    "execution": {
     "iopub.execute_input": "2024-04-07T17:06:46.390094Z",
     "iopub.status.busy": "2024-04-07T17:06:46.389705Z",
     "iopub.status.idle": "2024-04-07T17:06:46.405959Z",
     "shell.execute_reply": "2024-04-07T17:06:46.404727Z"
    },
    "papermill": {
     "duration": 0.040733,
     "end_time": "2024-04-07T17:06:46.408510",
     "exception": false,
     "start_time": "2024-04-07T17:06:46.367777",
     "status": "completed"
    },
    "tags": []
   },
   "outputs": [
    {
     "data": {
      "text/html": [
       "<div>\n",
       "<style scoped>\n",
       "    .dataframe tbody tr th:only-of-type {\n",
       "        vertical-align: middle;\n",
       "    }\n",
       "\n",
       "    .dataframe tbody tr th {\n",
       "        vertical-align: top;\n",
       "    }\n",
       "\n",
       "    .dataframe thead th {\n",
       "        text-align: right;\n",
       "    }\n",
       "</style>\n",
       "<table border=\"1\" class=\"dataframe\">\n",
       "  <thead>\n",
       "    <tr style=\"text-align: right;\">\n",
       "      <th></th>\n",
       "      <th>PassengerId</th>\n",
       "      <th>Survived</th>\n",
       "      <th>Pclass</th>\n",
       "      <th>Age</th>\n",
       "      <th>SibSp</th>\n",
       "      <th>Parch</th>\n",
       "    </tr>\n",
       "  </thead>\n",
       "  <tbody>\n",
       "    <tr>\n",
       "      <th>0</th>\n",
       "      <td>1</td>\n",
       "      <td>0</td>\n",
       "      <td>3</td>\n",
       "      <td>22.0</td>\n",
       "      <td>1</td>\n",
       "      <td>0</td>\n",
       "    </tr>\n",
       "    <tr>\n",
       "      <th>1</th>\n",
       "      <td>2</td>\n",
       "      <td>1</td>\n",
       "      <td>1</td>\n",
       "      <td>38.0</td>\n",
       "      <td>1</td>\n",
       "      <td>0</td>\n",
       "    </tr>\n",
       "    <tr>\n",
       "      <th>2</th>\n",
       "      <td>3</td>\n",
       "      <td>1</td>\n",
       "      <td>3</td>\n",
       "      <td>26.0</td>\n",
       "      <td>0</td>\n",
       "      <td>0</td>\n",
       "    </tr>\n",
       "    <tr>\n",
       "      <th>3</th>\n",
       "      <td>4</td>\n",
       "      <td>1</td>\n",
       "      <td>1</td>\n",
       "      <td>35.0</td>\n",
       "      <td>1</td>\n",
       "      <td>0</td>\n",
       "    </tr>\n",
       "    <tr>\n",
       "      <th>4</th>\n",
       "      <td>5</td>\n",
       "      <td>0</td>\n",
       "      <td>3</td>\n",
       "      <td>35.0</td>\n",
       "      <td>0</td>\n",
       "      <td>0</td>\n",
       "    </tr>\n",
       "    <tr>\n",
       "      <th>...</th>\n",
       "      <td>...</td>\n",
       "      <td>...</td>\n",
       "      <td>...</td>\n",
       "      <td>...</td>\n",
       "      <td>...</td>\n",
       "      <td>...</td>\n",
       "    </tr>\n",
       "    <tr>\n",
       "      <th>886</th>\n",
       "      <td>887</td>\n",
       "      <td>0</td>\n",
       "      <td>2</td>\n",
       "      <td>27.0</td>\n",
       "      <td>0</td>\n",
       "      <td>0</td>\n",
       "    </tr>\n",
       "    <tr>\n",
       "      <th>887</th>\n",
       "      <td>888</td>\n",
       "      <td>1</td>\n",
       "      <td>1</td>\n",
       "      <td>19.0</td>\n",
       "      <td>0</td>\n",
       "      <td>0</td>\n",
       "    </tr>\n",
       "    <tr>\n",
       "      <th>888</th>\n",
       "      <td>889</td>\n",
       "      <td>0</td>\n",
       "      <td>3</td>\n",
       "      <td>28.0</td>\n",
       "      <td>1</td>\n",
       "      <td>2</td>\n",
       "    </tr>\n",
       "    <tr>\n",
       "      <th>889</th>\n",
       "      <td>890</td>\n",
       "      <td>1</td>\n",
       "      <td>1</td>\n",
       "      <td>26.0</td>\n",
       "      <td>0</td>\n",
       "      <td>0</td>\n",
       "    </tr>\n",
       "    <tr>\n",
       "      <th>890</th>\n",
       "      <td>891</td>\n",
       "      <td>0</td>\n",
       "      <td>3</td>\n",
       "      <td>32.0</td>\n",
       "      <td>0</td>\n",
       "      <td>0</td>\n",
       "    </tr>\n",
       "  </tbody>\n",
       "</table>\n",
       "<p>891 rows × 6 columns</p>\n",
       "</div>"
      ],
      "text/plain": [
       "     PassengerId  Survived  Pclass   Age  SibSp  Parch\n",
       "0              1         0       3  22.0      1      0\n",
       "1              2         1       1  38.0      1      0\n",
       "2              3         1       3  26.0      0      0\n",
       "3              4         1       1  35.0      1      0\n",
       "4              5         0       3  35.0      0      0\n",
       "..           ...       ...     ...   ...    ...    ...\n",
       "886          887         0       2  27.0      0      0\n",
       "887          888         1       1  19.0      0      0\n",
       "888          889         0       3  28.0      1      2\n",
       "889          890         1       1  26.0      0      0\n",
       "890          891         0       3  32.0      0      0\n",
       "\n",
       "[891 rows x 6 columns]"
      ]
     },
     "execution_count": 21,
     "metadata": {},
     "output_type": "execute_result"
    }
   ],
   "source": [
    "train_data"
   ]
  },
  {
   "cell_type": "markdown",
   "id": "2b2f4051",
   "metadata": {
    "papermill": {
     "duration": 0.020074,
     "end_time": "2024-04-07T17:06:46.449627",
     "exception": false,
     "start_time": "2024-04-07T17:06:46.429553",
     "status": "completed"
    },
    "tags": []
   },
   "source": [
    "## 5- Creat Model"
   ]
  },
  {
   "cell_type": "code",
   "execution_count": 22,
   "id": "7afe375f",
   "metadata": {
    "execution": {
     "iopub.execute_input": "2024-04-07T17:06:46.493436Z",
     "iopub.status.busy": "2024-04-07T17:06:46.492892Z",
     "iopub.status.idle": "2024-04-07T17:06:46.499506Z",
     "shell.execute_reply": "2024-04-07T17:06:46.498303Z"
    },
    "papermill": {
     "duration": 0.031185,
     "end_time": "2024-04-07T17:06:46.501772",
     "exception": false,
     "start_time": "2024-04-07T17:06:46.470587",
     "status": "completed"
    },
    "tags": []
   },
   "outputs": [],
   "source": [
    "x = train_data.drop(['Survived'], axis =1)\n",
    "y = train_data.Survived"
   ]
  },
  {
   "cell_type": "code",
   "execution_count": 23,
   "id": "ae5213c9",
   "metadata": {
    "execution": {
     "iopub.execute_input": "2024-04-07T17:06:46.544903Z",
     "iopub.status.busy": "2024-04-07T17:06:46.544512Z",
     "iopub.status.idle": "2024-04-07T17:06:46.552596Z",
     "shell.execute_reply": "2024-04-07T17:06:46.551238Z"
    },
    "papermill": {
     "duration": 0.032518,
     "end_time": "2024-04-07T17:06:46.555199",
     "exception": false,
     "start_time": "2024-04-07T17:06:46.522681",
     "status": "completed"
    },
    "tags": []
   },
   "outputs": [],
   "source": [
    "x_train_data,x_test_data,y_train_data,y_test_data = train_test_split(x,y,train_size = .8)"
   ]
  },
  {
   "cell_type": "code",
   "execution_count": 24,
   "id": "3556c1d0",
   "metadata": {
    "execution": {
     "iopub.execute_input": "2024-04-07T17:06:46.600273Z",
     "iopub.status.busy": "2024-04-07T17:06:46.599880Z",
     "iopub.status.idle": "2024-04-07T17:06:46.605060Z",
     "shell.execute_reply": "2024-04-07T17:06:46.603676Z"
    },
    "papermill": {
     "duration": 0.030318,
     "end_time": "2024-04-07T17:06:46.607789",
     "exception": false,
     "start_time": "2024-04-07T17:06:46.577471",
     "status": "completed"
    },
    "tags": []
   },
   "outputs": [],
   "source": [
    "accuracies=[]"
   ]
  },
  {
   "cell_type": "code",
   "execution_count": 25,
   "id": "d2ceee33",
   "metadata": {
    "execution": {
     "iopub.execute_input": "2024-04-07T17:06:46.653497Z",
     "iopub.status.busy": "2024-04-07T17:06:46.653090Z",
     "iopub.status.idle": "2024-04-07T17:06:46.659323Z",
     "shell.execute_reply": "2024-04-07T17:06:46.657930Z"
    },
    "papermill": {
     "duration": 0.031902,
     "end_time": "2024-04-07T17:06:46.661882",
     "exception": false,
     "start_time": "2024-04-07T17:06:46.629980",
     "status": "completed"
    },
    "tags": []
   },
   "outputs": [],
   "source": [
    "def all(model):\n",
    "    model.fit(x_train_data, y_train_data)\n",
    "    pre = model1.predict(x_test_data)\n",
    "    accuracy = accuracy_score(pre,y_test_data)\n",
    "    print('Accuracy =', accuracy)\n",
    "    accuracies.append(accuracy)\n",
    "    "
   ]
  },
  {
   "cell_type": "code",
   "execution_count": 26,
   "id": "9c343524",
   "metadata": {
    "execution": {
     "iopub.execute_input": "2024-04-07T17:06:46.706269Z",
     "iopub.status.busy": "2024-04-07T17:06:46.705836Z",
     "iopub.status.idle": "2024-04-07T17:06:46.741426Z",
     "shell.execute_reply": "2024-04-07T17:06:46.739984Z"
    },
    "papermill": {
     "duration": 0.060756,
     "end_time": "2024-04-07T17:06:46.744178",
     "exception": false,
     "start_time": "2024-04-07T17:06:46.683422",
     "status": "completed"
    },
    "tags": []
   },
   "outputs": [
    {
     "name": "stdout",
     "output_type": "stream",
     "text": [
      "Accuracy = 0.7094972067039106\n"
     ]
    }
   ],
   "source": [
    "model1 = LogisticRegression()\n",
    "all(model1)"
   ]
  },
  {
   "cell_type": "code",
   "execution_count": 27,
   "id": "e6634270",
   "metadata": {
    "execution": {
     "iopub.execute_input": "2024-04-07T17:06:46.789081Z",
     "iopub.status.busy": "2024-04-07T17:06:46.788666Z",
     "iopub.status.idle": "2024-04-07T17:06:47.130057Z",
     "shell.execute_reply": "2024-04-07T17:06:47.128785Z"
    },
    "papermill": {
     "duration": 0.367977,
     "end_time": "2024-04-07T17:06:47.132973",
     "exception": false,
     "start_time": "2024-04-07T17:06:46.764996",
     "status": "completed"
    },
    "tags": []
   },
   "outputs": [
    {
     "name": "stdout",
     "output_type": "stream",
     "text": [
      "Accuracy = 0.6815642458100558\n"
     ]
    }
   ],
   "source": [
    "model1 = RandomForestClassifier()\n",
    "all(model1)"
   ]
  },
  {
   "cell_type": "code",
   "execution_count": 28,
   "id": "eac87fef",
   "metadata": {
    "execution": {
     "iopub.execute_input": "2024-04-07T17:06:47.176995Z",
     "iopub.status.busy": "2024-04-07T17:06:47.176493Z",
     "iopub.status.idle": "2024-04-07T17:06:47.355017Z",
     "shell.execute_reply": "2024-04-07T17:06:47.352882Z"
    },
    "papermill": {
     "duration": 0.204447,
     "end_time": "2024-04-07T17:06:47.358465",
     "exception": false,
     "start_time": "2024-04-07T17:06:47.154018",
     "status": "completed"
    },
    "tags": []
   },
   "outputs": [
    {
     "name": "stdout",
     "output_type": "stream",
     "text": [
      "Accuracy = 0.6815642458100558\n"
     ]
    }
   ],
   "source": [
    "model3= GradientBoostingClassifier()\n",
    "all(model3)"
   ]
  },
  {
   "cell_type": "code",
   "execution_count": 29,
   "id": "075a35a3",
   "metadata": {
    "execution": {
     "iopub.execute_input": "2024-04-07T17:06:47.405931Z",
     "iopub.status.busy": "2024-04-07T17:06:47.405023Z",
     "iopub.status.idle": "2024-04-07T17:06:47.429895Z",
     "shell.execute_reply": "2024-04-07T17:06:47.428321Z"
    },
    "papermill": {
     "duration": 0.052353,
     "end_time": "2024-04-07T17:06:47.432940",
     "exception": false,
     "start_time": "2024-04-07T17:06:47.380587",
     "status": "completed"
    },
    "tags": []
   },
   "outputs": [
    {
     "name": "stdout",
     "output_type": "stream",
     "text": [
      "Accuracy = 0.6815642458100558\n"
     ]
    }
   ],
   "source": [
    "model4 = DecisionTreeClassifier()\n",
    "all(model4)"
   ]
  },
  {
   "cell_type": "code",
   "execution_count": 30,
   "id": "366e82c0",
   "metadata": {
    "execution": {
     "iopub.execute_input": "2024-04-07T17:06:47.478797Z",
     "iopub.status.busy": "2024-04-07T17:06:47.478254Z",
     "iopub.status.idle": "2024-04-07T17:06:47.502583Z",
     "shell.execute_reply": "2024-04-07T17:06:47.501144Z"
    },
    "papermill": {
     "duration": 0.050976,
     "end_time": "2024-04-07T17:06:47.505290",
     "exception": false,
     "start_time": "2024-04-07T17:06:47.454314",
     "status": "completed"
    },
    "tags": []
   },
   "outputs": [
    {
     "name": "stdout",
     "output_type": "stream",
     "text": [
      "Accuracy = 0.6815642458100558\n"
     ]
    }
   ],
   "source": [
    "model5 = KNeighborsClassifier()\n",
    "all(model5)"
   ]
  },
  {
   "cell_type": "code",
   "execution_count": 31,
   "id": "07f1b1cf",
   "metadata": {
    "execution": {
     "iopub.execute_input": "2024-04-07T17:06:47.551898Z",
     "iopub.status.busy": "2024-04-07T17:06:47.551484Z",
     "iopub.status.idle": "2024-04-07T17:06:47.578038Z",
     "shell.execute_reply": "2024-04-07T17:06:47.576555Z"
    },
    "papermill": {
     "duration": 0.054275,
     "end_time": "2024-04-07T17:06:47.581248",
     "exception": false,
     "start_time": "2024-04-07T17:06:47.526973",
     "status": "completed"
    },
    "tags": []
   },
   "outputs": [
    {
     "name": "stdout",
     "output_type": "stream",
     "text": [
      "Accuracy = 0.6815642458100558\n"
     ]
    }
   ],
   "source": [
    "model6 = GaussianNB()\n",
    "all(model6)"
   ]
  },
  {
   "cell_type": "code",
   "execution_count": 32,
   "id": "a8f4ccd0",
   "metadata": {
    "execution": {
     "iopub.execute_input": "2024-04-07T17:06:47.630096Z",
     "iopub.status.busy": "2024-04-07T17:06:47.629503Z",
     "iopub.status.idle": "2024-04-07T17:06:47.674918Z",
     "shell.execute_reply": "2024-04-07T17:06:47.673457Z"
    },
    "papermill": {
     "duration": 0.073732,
     "end_time": "2024-04-07T17:06:47.677748",
     "exception": false,
     "start_time": "2024-04-07T17:06:47.604016",
     "status": "completed"
    },
    "tags": []
   },
   "outputs": [
    {
     "name": "stdout",
     "output_type": "stream",
     "text": [
      "Accuracy = 0.6815642458100558\n"
     ]
    }
   ],
   "source": [
    "model7 =SVC()\n",
    "all(model7)"
   ]
  },
  {
   "cell_type": "code",
   "execution_count": 33,
   "id": "a9bdf97c",
   "metadata": {
    "execution": {
     "iopub.execute_input": "2024-04-07T17:06:47.723592Z",
     "iopub.status.busy": "2024-04-07T17:06:47.723169Z",
     "iopub.status.idle": "2024-04-07T17:06:47.728897Z",
     "shell.execute_reply": "2024-04-07T17:06:47.727786Z"
    },
    "papermill": {
     "duration": 0.031424,
     "end_time": "2024-04-07T17:06:47.731427",
     "exception": false,
     "start_time": "2024-04-07T17:06:47.700003",
     "status": "completed"
    },
    "tags": []
   },
   "outputs": [],
   "source": [
    "Algorithms = [' LogisticRegression','RandomForestClassifier','GradientBoostingClassifier','DecisionTreeClassifier','KNeighborsClassifier','GaussianNB','SVC']"
   ]
  },
  {
   "cell_type": "code",
   "execution_count": 34,
   "id": "2bedea26",
   "metadata": {
    "execution": {
     "iopub.execute_input": "2024-04-07T17:06:47.778786Z",
     "iopub.status.busy": "2024-04-07T17:06:47.778332Z",
     "iopub.status.idle": "2024-04-07T17:06:47.784549Z",
     "shell.execute_reply": "2024-04-07T17:06:47.783153Z"
    },
    "papermill": {
     "duration": 0.03358,
     "end_time": "2024-04-07T17:06:47.787203",
     "exception": false,
     "start_time": "2024-04-07T17:06:47.753623",
     "status": "completed"
    },
    "tags": []
   },
   "outputs": [],
   "source": [
    "new = pd.DataFrame({'Algorithms':Algorithms,'accuracies':accuracies})"
   ]
  },
  {
   "cell_type": "code",
   "execution_count": 35,
   "id": "7da81997",
   "metadata": {
    "execution": {
     "iopub.execute_input": "2024-04-07T17:06:47.832659Z",
     "iopub.status.busy": "2024-04-07T17:06:47.832213Z",
     "iopub.status.idle": "2024-04-07T17:06:47.844577Z",
     "shell.execute_reply": "2024-04-07T17:06:47.843455Z"
    },
    "papermill": {
     "duration": 0.038278,
     "end_time": "2024-04-07T17:06:47.846991",
     "exception": false,
     "start_time": "2024-04-07T17:06:47.808713",
     "status": "completed"
    },
    "tags": []
   },
   "outputs": [
    {
     "data": {
      "text/html": [
       "<div>\n",
       "<style scoped>\n",
       "    .dataframe tbody tr th:only-of-type {\n",
       "        vertical-align: middle;\n",
       "    }\n",
       "\n",
       "    .dataframe tbody tr th {\n",
       "        vertical-align: top;\n",
       "    }\n",
       "\n",
       "    .dataframe thead th {\n",
       "        text-align: right;\n",
       "    }\n",
       "</style>\n",
       "<table border=\"1\" class=\"dataframe\">\n",
       "  <thead>\n",
       "    <tr style=\"text-align: right;\">\n",
       "      <th></th>\n",
       "      <th>Algorithms</th>\n",
       "      <th>accuracies</th>\n",
       "    </tr>\n",
       "  </thead>\n",
       "  <tbody>\n",
       "    <tr>\n",
       "      <th>0</th>\n",
       "      <td>LogisticRegression</td>\n",
       "      <td>0.709497</td>\n",
       "    </tr>\n",
       "    <tr>\n",
       "      <th>1</th>\n",
       "      <td>RandomForestClassifier</td>\n",
       "      <td>0.681564</td>\n",
       "    </tr>\n",
       "    <tr>\n",
       "      <th>2</th>\n",
       "      <td>GradientBoostingClassifier</td>\n",
       "      <td>0.681564</td>\n",
       "    </tr>\n",
       "    <tr>\n",
       "      <th>3</th>\n",
       "      <td>DecisionTreeClassifier</td>\n",
       "      <td>0.681564</td>\n",
       "    </tr>\n",
       "    <tr>\n",
       "      <th>4</th>\n",
       "      <td>KNeighborsClassifier</td>\n",
       "      <td>0.681564</td>\n",
       "    </tr>\n",
       "    <tr>\n",
       "      <th>5</th>\n",
       "      <td>GaussianNB</td>\n",
       "      <td>0.681564</td>\n",
       "    </tr>\n",
       "    <tr>\n",
       "      <th>6</th>\n",
       "      <td>SVC</td>\n",
       "      <td>0.681564</td>\n",
       "    </tr>\n",
       "  </tbody>\n",
       "</table>\n",
       "</div>"
      ],
      "text/plain": [
       "                   Algorithms  accuracies\n",
       "0          LogisticRegression    0.709497\n",
       "1      RandomForestClassifier    0.681564\n",
       "2  GradientBoostingClassifier    0.681564\n",
       "3      DecisionTreeClassifier    0.681564\n",
       "4        KNeighborsClassifier    0.681564\n",
       "5                  GaussianNB    0.681564\n",
       "6                         SVC    0.681564"
      ]
     },
     "execution_count": 35,
     "metadata": {},
     "output_type": "execute_result"
    }
   ],
   "source": [
    "new"
   ]
  },
  {
   "cell_type": "code",
   "execution_count": 36,
   "id": "9a7a4a92",
   "metadata": {
    "execution": {
     "iopub.execute_input": "2024-04-07T17:06:47.892291Z",
     "iopub.status.busy": "2024-04-07T17:06:47.891910Z",
     "iopub.status.idle": "2024-04-07T17:06:48.059827Z",
     "shell.execute_reply": "2024-04-07T17:06:48.058297Z"
    },
    "papermill": {
     "duration": 0.195149,
     "end_time": "2024-04-07T17:06:48.063512",
     "exception": false,
     "start_time": "2024-04-07T17:06:47.868363",
     "status": "completed"
    },
    "tags": []
   },
   "outputs": [
    {
     "data": {
      "text/html": [
       "<style>#sk-container-id-1 {color: black;background-color: white;}#sk-container-id-1 pre{padding: 0;}#sk-container-id-1 div.sk-toggleable {background-color: white;}#sk-container-id-1 label.sk-toggleable__label {cursor: pointer;display: block;width: 100%;margin-bottom: 0;padding: 0.3em;box-sizing: border-box;text-align: center;}#sk-container-id-1 label.sk-toggleable__label-arrow:before {content: \"▸\";float: left;margin-right: 0.25em;color: #696969;}#sk-container-id-1 label.sk-toggleable__label-arrow:hover:before {color: black;}#sk-container-id-1 div.sk-estimator:hover label.sk-toggleable__label-arrow:before {color: black;}#sk-container-id-1 div.sk-toggleable__content {max-height: 0;max-width: 0;overflow: hidden;text-align: left;background-color: #f0f8ff;}#sk-container-id-1 div.sk-toggleable__content pre {margin: 0.2em;color: black;border-radius: 0.25em;background-color: #f0f8ff;}#sk-container-id-1 input.sk-toggleable__control:checked~div.sk-toggleable__content {max-height: 200px;max-width: 100%;overflow: auto;}#sk-container-id-1 input.sk-toggleable__control:checked~label.sk-toggleable__label-arrow:before {content: \"▾\";}#sk-container-id-1 div.sk-estimator input.sk-toggleable__control:checked~label.sk-toggleable__label {background-color: #d4ebff;}#sk-container-id-1 div.sk-label input.sk-toggleable__control:checked~label.sk-toggleable__label {background-color: #d4ebff;}#sk-container-id-1 input.sk-hidden--visually {border: 0;clip: rect(1px 1px 1px 1px);clip: rect(1px, 1px, 1px, 1px);height: 1px;margin: -1px;overflow: hidden;padding: 0;position: absolute;width: 1px;}#sk-container-id-1 div.sk-estimator {font-family: monospace;background-color: #f0f8ff;border: 1px dotted black;border-radius: 0.25em;box-sizing: border-box;margin-bottom: 0.5em;}#sk-container-id-1 div.sk-estimator:hover {background-color: #d4ebff;}#sk-container-id-1 div.sk-parallel-item::after {content: \"\";width: 100%;border-bottom: 1px solid gray;flex-grow: 1;}#sk-container-id-1 div.sk-label:hover label.sk-toggleable__label {background-color: #d4ebff;}#sk-container-id-1 div.sk-serial::before {content: \"\";position: absolute;border-left: 1px solid gray;box-sizing: border-box;top: 0;bottom: 0;left: 50%;z-index: 0;}#sk-container-id-1 div.sk-serial {display: flex;flex-direction: column;align-items: center;background-color: white;padding-right: 0.2em;padding-left: 0.2em;position: relative;}#sk-container-id-1 div.sk-item {position: relative;z-index: 1;}#sk-container-id-1 div.sk-parallel {display: flex;align-items: stretch;justify-content: center;background-color: white;position: relative;}#sk-container-id-1 div.sk-item::before, #sk-container-id-1 div.sk-parallel-item::before {content: \"\";position: absolute;border-left: 1px solid gray;box-sizing: border-box;top: 0;bottom: 0;left: 50%;z-index: -1;}#sk-container-id-1 div.sk-parallel-item {display: flex;flex-direction: column;z-index: 1;position: relative;background-color: white;}#sk-container-id-1 div.sk-parallel-item:first-child::after {align-self: flex-end;width: 50%;}#sk-container-id-1 div.sk-parallel-item:last-child::after {align-self: flex-start;width: 50%;}#sk-container-id-1 div.sk-parallel-item:only-child::after {width: 0;}#sk-container-id-1 div.sk-dashed-wrapped {border: 1px dashed gray;margin: 0 0.4em 0.5em 0.4em;box-sizing: border-box;padding-bottom: 0.4em;background-color: white;}#sk-container-id-1 div.sk-label label {font-family: monospace;font-weight: bold;display: inline-block;line-height: 1.2em;}#sk-container-id-1 div.sk-label-container {text-align: center;}#sk-container-id-1 div.sk-container {/* jupyter's `normalize.less` sets `[hidden] { display: none; }` but bootstrap.min.css set `[hidden] { display: none !important; }` so we also need the `!important` here to be able to override the default hidden behavior on the sphinx rendered scikit-learn.org. See: https://github.com/scikit-learn/scikit-learn/issues/21755 */display: inline-block !important;position: relative;}#sk-container-id-1 div.sk-text-repr-fallback {display: none;}</style><div id=\"sk-container-id-1\" class=\"sk-top-container\"><div class=\"sk-text-repr-fallback\"><pre>GradientBoostingClassifier()</pre><b>In a Jupyter environment, please rerun this cell to show the HTML representation or trust the notebook. <br />On GitHub, the HTML representation is unable to render, please try loading this page with nbviewer.org.</b></div><div class=\"sk-container\" hidden><div class=\"sk-item\"><div class=\"sk-estimator sk-toggleable\"><input class=\"sk-toggleable__control sk-hidden--visually\" id=\"sk-estimator-id-1\" type=\"checkbox\" checked><label for=\"sk-estimator-id-1\" class=\"sk-toggleable__label sk-toggleable__label-arrow\">GradientBoostingClassifier</label><div class=\"sk-toggleable__content\"><pre>GradientBoostingClassifier()</pre></div></div></div></div></div>"
      ],
      "text/plain": [
       "GradientBoostingClassifier()"
      ]
     },
     "execution_count": 36,
     "metadata": {},
     "output_type": "execute_result"
    }
   ],
   "source": [
    "modelx = GradientBoostingClassifier()\n",
    "modelx.fit(x_train_data,y_train_data)"
   ]
  },
  {
   "cell_type": "code",
   "execution_count": 37,
   "id": "3b1b2468",
   "metadata": {
    "execution": {
     "iopub.execute_input": "2024-04-07T17:06:48.109927Z",
     "iopub.status.busy": "2024-04-07T17:06:48.109495Z",
     "iopub.status.idle": "2024-04-07T17:06:48.118447Z",
     "shell.execute_reply": "2024-04-07T17:06:48.117172Z"
    },
    "papermill": {
     "duration": 0.035053,
     "end_time": "2024-04-07T17:06:48.121119",
     "exception": false,
     "start_time": "2024-04-07T17:06:48.086066",
     "status": "completed"
    },
    "tags": []
   },
   "outputs": [],
   "source": [
    "lpre = modelx.predict(test_data)"
   ]
  },
  {
   "cell_type": "code",
   "execution_count": 38,
   "id": "60a35875",
   "metadata": {
    "execution": {
     "iopub.execute_input": "2024-04-07T17:06:48.170625Z",
     "iopub.status.busy": "2024-04-07T17:06:48.169742Z",
     "iopub.status.idle": "2024-04-07T17:06:48.175273Z",
     "shell.execute_reply": "2024-04-07T17:06:48.174388Z"
    },
    "papermill": {
     "duration": 0.033608,
     "end_time": "2024-04-07T17:06:48.177786",
     "exception": false,
     "start_time": "2024-04-07T17:06:48.144178",
     "status": "completed"
    },
    "tags": []
   },
   "outputs": [],
   "source": [
    "final = test_data.PassengerId"
   ]
  },
  {
   "cell_type": "code",
   "execution_count": 39,
   "id": "305339de",
   "metadata": {
    "execution": {
     "iopub.execute_input": "2024-04-07T17:06:48.226756Z",
     "iopub.status.busy": "2024-04-07T17:06:48.225901Z",
     "iopub.status.idle": "2024-04-07T17:06:48.232460Z",
     "shell.execute_reply": "2024-04-07T17:06:48.231452Z"
    },
    "papermill": {
     "duration": 0.034334,
     "end_time": "2024-04-07T17:06:48.235009",
     "exception": false,
     "start_time": "2024-04-07T17:06:48.200675",
     "status": "completed"
    },
    "tags": []
   },
   "outputs": [],
   "source": [
    "new_dataFrame = pd.DataFrame({'PassengerId':final,'Survived':lpre})"
   ]
  },
  {
   "cell_type": "code",
   "execution_count": 40,
   "id": "52e9771f",
   "metadata": {
    "execution": {
     "iopub.execute_input": "2024-04-07T17:06:48.284248Z",
     "iopub.status.busy": "2024-04-07T17:06:48.283842Z",
     "iopub.status.idle": "2024-04-07T17:06:48.295727Z",
     "shell.execute_reply": "2024-04-07T17:06:48.294781Z"
    },
    "papermill": {
     "duration": 0.040001,
     "end_time": "2024-04-07T17:06:48.298539",
     "exception": false,
     "start_time": "2024-04-07T17:06:48.258538",
     "status": "completed"
    },
    "tags": []
   },
   "outputs": [
    {
     "data": {
      "text/plain": [
       "',PassengerId,Survived\\n0,892,0\\n1,893,0\\n2,894,0\\n3,895,0\\n4,896,0\\n5,897,0\\n6,898,0\\n7,899,1\\n8,900,0\\n9,901,0\\n10,902,0\\n11,903,0\\n12,904,1\\n13,905,0\\n14,906,1\\n15,907,0\\n16,908,0\\n17,909,0\\n18,910,0\\n19,911,0\\n20,912,1\\n21,913,0\\n22,914,1\\n23,915,1\\n24,916,1\\n25,917,0\\n26,918,1\\n27,919,0\\n28,920,1\\n29,921,0\\n30,922,0\\n31,923,0\\n32,924,0\\n33,925,0\\n34,926,1\\n35,927,0\\n36,928,0\\n37,929,0\\n38,930,0\\n39,931,0\\n40,932,0\\n41,933,1\\n42,934,0\\n43,935,0\\n44,936,1\\n45,937,0\\n46,938,1\\n47,939,0\\n48,940,0\\n49,941,0\\n50,942,1\\n51,943,0\\n52,944,0\\n53,945,1\\n54,946,0\\n55,947,0\\n56,948,0\\n57,949,0\\n58,950,0\\n59,951,1\\n60,952,0\\n61,953,0\\n62,954,0\\n63,955,0\\n64,956,1\\n65,957,0\\n66,958,0\\n67,959,0\\n68,960,1\\n69,961,1\\n70,962,0\\n71,963,0\\n72,964,0\\n73,965,1\\n74,966,1\\n75,967,1\\n76,968,0\\n77,969,1\\n78,970,0\\n79,971,0\\n80,972,1\\n81,973,0\\n82,974,1\\n83,975,0\\n84,976,0\\n85,977,0\\n86,978,0\\n87,979,0\\n88,980,0\\n89,981,1\\n90,982,0\\n91,983,0\\n92,984,1\\n93,985,0\\n94,986,1\\n95,987,0\\n96,988,1\\n97,989,0\\n98,990,0\\n99,991,0\\n100,992,1\\n101,993,0\\n102,994,0\\n103,995,0\\n104,996,0\\n105,997,0\\n106,998,0\\n107,999,0\\n108,1000,0\\n109,1001,0\\n110,1002,0\\n111,1003,0\\n112,1004,1\\n113,1005,0\\n114,1006,1\\n115,1007,0\\n116,1008,0\\n117,1009,1\\n118,1010,1\\n119,1011,0\\n120,1012,1\\n121,1013,0\\n122,1014,1\\n123,1015,0\\n124,1016,0\\n125,1017,0\\n126,1018,0\\n127,1019,0\\n128,1020,0\\n129,1021,0\\n130,1022,0\\n131,1023,1\\n132,1024,0\\n133,1025,0\\n134,1026,0\\n135,1027,0\\n136,1028,0\\n137,1029,0\\n138,1030,0\\n139,1031,0\\n140,1032,0\\n141,1033,1\\n142,1034,1\\n143,1035,0\\n144,1036,1\\n145,1037,0\\n146,1038,1\\n147,1039,0\\n148,1040,1\\n149,1041,1\\n150,1042,1\\n151,1043,0\\n152,1044,0\\n153,1045,0\\n154,1046,0\\n155,1047,0\\n156,1048,1\\n157,1049,0\\n158,1050,1\\n159,1051,0\\n160,1052,0\\n161,1053,0\\n162,1054,0\\n163,1055,0\\n164,1056,0\\n165,1057,0\\n166,1058,1\\n167,1059,0\\n168,1060,1\\n169,1061,0\\n170,1062,0\\n171,1063,0\\n172,1064,0\\n173,1065,0\\n174,1066,0\\n175,1067,1\\n176,1068,0\\n177,1069,1\\n178,1070,1\\n179,1071,0\\n180,1072,0\\n181,1073,1\\n182,1074,1\\n183,1075,0\\n184,1076,1\\n185,1077,0\\n186,1078,1\\n187,1079,0\\n188,1080,0\\n189,1081,0\\n190,1082,0\\n191,1083,1\\n192,1084,0\\n193,1085,0\\n194,1086,1\\n195,1087,0\\n196,1088,1\\n197,1089,0\\n198,1090,0\\n199,1091,0\\n200,1092,0\\n201,1093,1\\n202,1094,1\\n203,1095,1\\n204,1096,0\\n205,1097,1\\n206,1098,0\\n207,1099,0\\n208,1100,1\\n209,1101,0\\n210,1102,0\\n211,1103,0\\n212,1104,0\\n213,1105,0\\n214,1106,0\\n215,1107,1\\n216,1108,0\\n217,1109,1\\n218,1110,1\\n219,1111,0\\n220,1112,0\\n221,1113,0\\n222,1114,0\\n223,1115,0\\n224,1116,1\\n225,1117,0\\n226,1118,0\\n227,1119,0\\n228,1120,0\\n229,1121,0\\n230,1122,1\\n231,1123,1\\n232,1124,0\\n233,1125,0\\n234,1126,1\\n235,1127,0\\n236,1128,0\\n237,1129,0\\n238,1130,1\\n239,1131,1\\n240,1132,1\\n241,1133,0\\n242,1134,1\\n243,1135,0\\n244,1136,0\\n245,1137,1\\n246,1138,0\\n247,1139,1\\n248,1140,0\\n249,1141,0\\n250,1142,1\\n251,1143,0\\n252,1144,1\\n253,1145,0\\n254,1146,0\\n255,1147,0\\n256,1148,0\\n257,1149,0\\n258,1150,0\\n259,1151,0\\n260,1152,0\\n261,1153,0\\n262,1154,1\\n263,1155,1\\n264,1156,0\\n265,1157,0\\n266,1158,1\\n267,1159,0\\n268,1160,0\\n269,1161,0\\n270,1162,0\\n271,1163,0\\n272,1164,1\\n273,1165,0\\n274,1166,0\\n275,1167,0\\n276,1168,0\\n277,1169,0\\n278,1170,0\\n279,1171,0\\n280,1172,0\\n281,1173,1\\n282,1174,0\\n283,1175,0\\n284,1176,1\\n285,1177,0\\n286,1178,0\\n287,1179,1\\n288,1180,0\\n289,1181,0\\n290,1182,1\\n291,1183,0\\n292,1184,0\\n293,1185,1\\n294,1186,0\\n295,1187,0\\n296,1188,1\\n297,1189,0\\n298,1190,1\\n299,1191,0\\n300,1192,0\\n301,1193,0\\n302,1194,0\\n303,1195,0\\n304,1196,0\\n305,1197,1\\n306,1198,1\\n307,1199,1\\n308,1200,1\\n309,1201,0\\n310,1202,0\\n311,1203,0\\n312,1204,0\\n313,1205,0\\n314,1206,1\\n315,1207,0\\n316,1208,1\\n317,1209,0\\n318,1210,0\\n319,1211,0\\n320,1212,0\\n321,1213,0\\n322,1214,0\\n323,1215,1\\n324,1216,1\\n325,1217,0\\n326,1218,1\\n327,1219,0\\n328,1220,0\\n329,1221,0\\n330,1222,1\\n331,1223,1\\n332,1224,0\\n333,1225,0\\n334,1226,0\\n335,1227,1\\n336,1228,0\\n337,1229,0\\n338,1230,0\\n339,1231,0\\n340,1232,0\\n341,1233,0\\n342,1234,0\\n343,1235,1\\n344,1236,0\\n345,1237,0\\n346,1238,0\\n347,1239,0\\n348,1240,0\\n349,1241,0\\n350,1242,1\\n351,1243,0\\n352,1244,0\\n353,1245,1\\n354,1246,1\\n355,1247,1\\n356,1248,1\\n357,1249,0\\n358,1250,0\\n359,1251,0\\n360,1252,0\\n361,1253,1\\n362,1254,0\\n363,1255,0\\n364,1256,1\\n365,1257,0\\n366,1258,0\\n367,1259,0\\n368,1260,1\\n369,1261,0\\n370,1262,0\\n371,1263,1\\n372,1264,1\\n373,1265,0\\n374,1266,1\\n375,1267,1\\n376,1268,0\\n377,1269,0\\n378,1270,1\\n379,1271,0\\n380,1272,0\\n381,1273,0\\n382,1274,0\\n383,1275,0\\n384,1276,0\\n385,1277,1\\n386,1278,0\\n387,1279,0\\n388,1280,0\\n389,1281,0\\n390,1282,1\\n391,1283,1\\n392,1284,0\\n393,1285,0\\n394,1286,0\\n395,1287,1\\n396,1288,0\\n397,1289,1\\n398,1290,0\\n399,1291,0\\n400,1292,1\\n401,1293,0\\n402,1294,1\\n403,1295,1\\n404,1296,1\\n405,1297,0\\n406,1298,0\\n407,1299,1\\n408,1300,0\\n409,1301,1\\n410,1302,0\\n411,1303,1\\n412,1304,0\\n413,1305,0\\n414,1306,1\\n415,1307,0\\n416,1308,0\\n417,1309,0\\n'"
      ]
     },
     "execution_count": 40,
     "metadata": {},
     "output_type": "execute_result"
    }
   ],
   "source": [
    "new_dataFrame.to_csv()"
   ]
  },
  {
   "cell_type": "code",
   "execution_count": null,
   "id": "e1137e50",
   "metadata": {
    "papermill": {
     "duration": 0.023482,
     "end_time": "2024-04-07T17:06:48.344786",
     "exception": false,
     "start_time": "2024-04-07T17:06:48.321304",
     "status": "completed"
    },
    "tags": []
   },
   "outputs": [],
   "source": []
  }
 ],
 "metadata": {
  "kaggle": {
   "accelerator": "none",
   "dataSources": [
    {
     "databundleVersionId": 26502,
     "sourceId": 3136,
     "sourceType": "competition"
    }
   ],
   "dockerImageVersionId": 30664,
   "isGpuEnabled": false,
   "isInternetEnabled": false,
   "language": "python",
   "sourceType": "notebook"
  },
  "kernelspec": {
   "display_name": "Python 3",
   "language": "python",
   "name": "python3"
  },
  "language_info": {
   "codemirror_mode": {
    "name": "ipython",
    "version": 3
   },
   "file_extension": ".py",
   "mimetype": "text/x-python",
   "name": "python",
   "nbconvert_exporter": "python",
   "pygments_lexer": "ipython3",
   "version": "3.10.13"
  },
  "papermill": {
   "default_parameters": {},
   "duration": 13.773723,
   "end_time": "2024-04-07T17:06:49.091836",
   "environment_variables": {},
   "exception": null,
   "input_path": "__notebook__.ipynb",
   "output_path": "__notebook__.ipynb",
   "parameters": {},
   "start_time": "2024-04-07T17:06:35.318113",
   "version": "2.5.0"
  }
 },
 "nbformat": 4,
 "nbformat_minor": 5
}
